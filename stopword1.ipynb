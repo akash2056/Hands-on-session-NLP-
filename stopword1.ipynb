{
 "cells": [
  {
   "cell_type": "code",
   "execution_count": 1,
   "metadata": {},
   "outputs": [],
   "source": [
    "#Stopwords part1"
   ]
  },
  {
   "cell_type": "code",
   "execution_count": 2,
   "metadata": {},
   "outputs": [],
   "source": [
    "from nltk.corpus import stopwords\n",
    "from nltk.tokenize import word_tokenize"
   ]
  },
  {
   "cell_type": "code",
   "execution_count": 3,
   "metadata": {},
   "outputs": [
    {
     "name": "stdout",
     "output_type": "stream",
     "text": [
      "{'doing', 'have', 'and', 'can', 'he', 'yours', 'because', 'each', 'when', 'whom', 'm', \"mustn't\", 'aren', 'weren', 'are', \"mightn't\", \"shouldn't\", 'is', 'from', \"you'd\", 'yourself', 'our', 'yourselves', \"it's\", 'were', 'am', 'd', 've', 'the', 'of', 'down', 'ourselves', 'ain', 'him', 'again', 'o', 'myself', 'such', 'himself', 'needn', 'haven', 'don', 'why', 'hasn', \"you'll\", 'through', 'having', \"haven't\", 'we', 'where', 'doesn', 'who', 're', \"wouldn't\", 'both', \"you've\", \"she's\", 'ours', 'his', 'too', 'no', 'very', 'after', 'be', 'does', 'further', 'now', 'before', 'which', 'all', 'herself', 'once', 'nor', 'more', \"hasn't\", 'over', 'had', 'wouldn', \"wasn't\", 'there', 'y', 'if', 'your', 'during', 'in', 'other', 'i', 'me', 'their', 'few', 'or', 'any', \"couldn't\", 's', 'did', \"weren't\", 'its', 'between', \"should've\", 'not', 'just', 'hers', \"that'll\", 'than', 'shouldn', 'do', 'most', 'shan', 'my', 'under', 'as', \"hadn't\", 'ma', 'mightn', 'but', 't', 'a', 'those', 'on', 'so', 'it', 'mustn', 'by', 'some', \"isn't\", 'won', 'with', \"needn't\", \"didn't\", 'been', 'these', \"don't\", 'you', 'theirs', \"doesn't\", \"shan't\", 'wasn', 'being', 'off', 'this', 'her', \"you're\", 'has', \"won't\", 'itself', 'while', 'how', 'should', 'them', 'up', 'will', 'out', 'own', 'here', 'above', 'then', 'hadn', 'themselves', 'didn', 'against', 'at', 'an', 'for', 'into', 'to', 'until', 'll', 'about', 'same', 'what', 'that', 'she', 'below', 'only', 'they', \"aren't\", 'was', 'isn', 'couldn'}\n"
     ]
    }
   ],
   "source": [
    "stop_words=set(stopwords.words(\"english\"))\n",
    "print(stop_words)"
   ]
  },
  {
   "cell_type": "code",
   "execution_count": 4,
   "metadata": {},
   "outputs": [
    {
     "name": "stdout",
     "output_type": "stream",
     "text": [
      "['While', 'you', 'are', 'off', 'home', ',', 'Hansraj', 'watches', 'a', 'lot', 'of', 'anime']\n"
     ]
    }
   ],
   "source": [
    "example_sentence=\"While you are off home, Hansraj watches a lot of anime\"\n",
    "words=word_tokenize(example_sentence)\n",
    "print(words)"
   ]
  },
  {
   "cell_type": "code",
   "execution_count": 5,
   "metadata": {},
   "outputs": [
    {
     "name": "stdout",
     "output_type": "stream",
     "text": [
      "['While', 'home', ',', 'Hansraj', 'watches', 'lot', 'anime']\n"
     ]
    }
   ],
   "source": [
    "filtered_words=[]\n",
    "for w in words:\n",
    "    if w not in stop_words:\n",
    "        filtered_words.append(w)\n",
    "print(filtered_words)"
   ]
  },
  {
   "cell_type": "code",
   "execution_count": null,
   "metadata": {},
   "outputs": [],
   "source": []
  }
 ],
 "metadata": {
  "kernelspec": {
   "display_name": "Python 3",
   "language": "python",
   "name": "python3"
  },
  "language_info": {
   "codemirror_mode": {
    "name": "ipython",
    "version": 3
   },
   "file_extension": ".py",
   "mimetype": "text/x-python",
   "name": "python",
   "nbconvert_exporter": "python",
   "pygments_lexer": "ipython3",
   "version": "3.8.3"
  }
 },
 "nbformat": 4,
 "nbformat_minor": 4
}
