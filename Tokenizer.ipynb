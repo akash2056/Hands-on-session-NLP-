{
 "cells": [
  {
   "cell_type": "code",
   "execution_count": 1,
   "metadata": {},
   "outputs": [],
   "source": [
    "import nltk"
   ]
  },
  {
   "cell_type": "code",
   "execution_count": 2,
   "metadata": {},
   "outputs": [
    {
     "name": "stdout",
     "output_type": "stream",
     "text": [
      "(S\n",
      "  we/PRP\n",
      "  are/VBP\n",
      "  met/VBN\n",
      "  on/IN\n",
      "  (NP a/DT great/JJ battle/NN)\n",
      "  (NP field/NN)\n",
      "  of/IN\n",
      "  (NP that/DT war/NN))\n"
     ]
    }
   ],
   "source": [
    "stmt=\"we are met on a great battle field of that war\"\n",
    "nltk_tokens=nltk.word_tokenize(stmt)\n",
    "t_sp=nltk.pos_tag(nltk_tokens)\n",
    "grammar = \"NP:{<DT>?<JJ>*<NN>}\"\n",
    "ucc=nltk.RegexpParser(grammar)\n",
    "result = ucc.parse(t_sp)\n",
    "print(result)"
   ]
  },
  {
   "cell_type": "code",
   "execution_count": null,
   "metadata": {},
   "outputs": [],
   "source": [
    "result.draw()\n"
   ]
  },
  {
   "cell_type": "code",
   "execution_count": null,
   "metadata": {},
   "outputs": [],
   "source": [
    "\n"
   ]
  },
  {
   "cell_type": "code",
   "execution_count": null,
   "metadata": {},
   "outputs": [],
   "source": []
  },
  {
   "cell_type": "code",
   "execution_count": null,
   "metadata": {},
   "outputs": [],
   "source": []
  },
  {
   "cell_type": "code",
   "execution_count": null,
   "metadata": {},
   "outputs": [],
   "source": []
  }
 ],
 "metadata": {
  "kernelspec": {
   "display_name": "Python 3",
   "language": "python",
   "name": "python3"
  },
  "language_info": {
   "codemirror_mode": {
    "name": "ipython",
    "version": 3
   },
   "file_extension": ".py",
   "mimetype": "text/x-python",
   "name": "python",
   "nbconvert_exporter": "python",
   "pygments_lexer": "ipython3",
   "version": "3.8.3"
  }
 },
 "nbformat": 4,
 "nbformat_minor": 4
}
